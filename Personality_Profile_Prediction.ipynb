{
  "nbformat": 4,
  "nbformat_minor": 0,
  "metadata": {
    "colab": {
      "name": "Personality Profile Prediction.ipynb",
      "version": "0.3.2",
      "provenance": [],
      "collapsed_sections": [],
      "include_colab_link": true
    },
    "language_info": {
      "codemirror_mode": {
        "name": "ipython",
        "version": 3
      },
      "file_extension": ".py",
      "mimetype": "text/x-python",
      "name": "python",
      "nbconvert_exporter": "python",
      "pygments_lexer": "ipython3",
      "version": "3.6.4"
    },
    "kernelspec": {
      "name": "python3",
      "display_name": "Python 3"
    },
    "accelerator": "GPU"
  },
  "cells": [
    {
      "cell_type": "markdown",
      "metadata": {
        "id": "view-in-github",
        "colab_type": "text"
      },
      "source": [
        "<a href=\"https://colab.research.google.com/github/thabied/Personality-Prediction/blob/master/Personality_Profile_Prediction.ipynb\" target=\"_parent\"><img src=\"https://colab.research.google.com/assets/colab-badge.svg\" alt=\"Open In Colab\"/></a>"
      ]
    },
    {
      "cell_type": "markdown",
      "metadata": {
        "id": "S8d4gNpvil3Q",
        "colab_type": "text"
      },
      "source": [
        "# Team 7 NLP Project\n",
        "***\n",
        "\n",
        "![Pic](https://i.pinimg.com/originals/2c/c9/93/2cc993328e0f5aa1c79caf6d67d3640a.png)"
      ]
    },
    {
      "cell_type": "markdown",
      "metadata": {
        "id": "VfEJC8-Nil3T",
        "colab_type": "text"
      },
      "source": [
        "# Introduction\n",
        "***\n",
        "**The goal for this project is to predict a person's MBTI personality type**\n",
        "\n",
        "\n",
        "\n",
        "<U>What is MBTI:</U>  Myers-Briggs theory is an adaptation of the theory of psychological types produced by Carl Gustav Jung. It is the most commonly used personlaity prediction model world wide.\n",
        " \n",
        "\n",
        "<U>Data:</U>\n",
        "The data given is from the Personality Cafe website forums of users' social media posts. There are only 2 variables. \n",
        "\n",
        "The Target variable Y is the MBTI 'type' classification of users, each MBTI personality type consists of four binary variables, they are: \n",
        "- Mind: Introverted (I) or Extraverted (E) \n",
        "- Energy: Sensing (S) or Intuitive (N) \n",
        "- Nature: Feeling (F) or Thinking (T) \n",
        "- Tactics: Perceiving (P) or Judging (J)\n",
        "\n",
        "The Independant Variable X is the social media 'posts' of users. \n",
        "\n",
        "Each variable (independent and dependant) is analysed, determining the quality and nature of the variable’s data.\n",
        "\n",
        "\n",
        "<U>Model Overview:</U>\n",
        "This challenge will require the use of Natural Language Processing to convert the data into machine learning format. This data will then be used to train a classifier capable of assigning MBTI labels to a person's online forum posts.\n",
        "\n",
        "<U>Evaluation Metric:</U>\n",
        "Our submission will be scored on mean column-wise log loss across each of the four categories."
      ]
    },
    {
      "cell_type": "markdown",
      "metadata": {
        "id": "2waLn1zIil3V",
        "colab_type": "text"
      },
      "source": [
        "**Importing Libraries**"
      ]
    },
    {
      "cell_type": "code",
      "metadata": {
        "id": "7ZdIqfkjil3X",
        "colab_type": "code",
        "colab": {}
      },
      "source": [
        "import numpy as np\n",
        "import pandas as pd\n",
        "import nltk\n",
        "import matplotlib.pyplot as plt\n",
        "from collections import Counter\n",
        "from nltk.corpus import stopwords\n",
        "from sklearn.ensemble import RandomForestClassifier,AdaBoostClassifier\n",
        "from sklearn.neighbors import KNeighborsClassifier\n",
        "from sklearn.metrics import confusion_matrix, classification_report\n",
        "from sklearn.model_selection import train_test_split, GridSearchCV\n",
        "from sklearn.feature_extraction.text import CountVectorizer, TfidfVectorizer, TfidfTransformer\n",
        "from sklearn.metrics import log_loss, confusion_matrix, classification_report, roc_auc_score, accuracy_score\n",
        "\n",
        "\n",
        "import seaborn as sns\n",
        "%matplotlib inline\n",
        "import re\n",
        "\n",
        "from sklearn.model_selection import GridSearchCV\n",
        "from sklearn.svm import SVC"
      ],
      "execution_count": 0,
      "outputs": []
    },
    {
      "cell_type": "markdown",
      "metadata": {
        "id": "Rj6DzpWiil3k",
        "colab_type": "text"
      },
      "source": [
        "**Mount Google Drive**"
      ]
    },
    {
      "cell_type": "code",
      "metadata": {
        "id": "nVcq-9GKklHn",
        "colab_type": "code",
        "outputId": "036c1046-5b2e-4a38-cb99-108d24169aed",
        "colab": {
          "base_uri": "https://localhost:8080/",
          "height": 34
        }
      },
      "source": [
        "from google.colab import drive\n",
        "drive.mount('/content/drive')"
      ],
      "execution_count": 40,
      "outputs": [
        {
          "output_type": "stream",
          "text": [
            "Drive already mounted at /content/drive; to attempt to forcibly remount, call drive.mount(\"/content/drive\", force_remount=True).\n"
          ],
          "name": "stdout"
        }
      ]
    },
    {
      "cell_type": "code",
      "metadata": {
        "id": "0XggW4YBil3m",
        "colab_type": "code",
        "colab": {}
      },
      "source": [
        "train = pd.read_csv('/content/drive/My Drive/train_cl.csv')\n",
        "test = pd.read_csv('/content/drive/My Drive/test_cl.csv')"
      ],
      "execution_count": 0,
      "outputs": []
    },
    {
      "cell_type": "code",
      "metadata": {
        "id": "FwK6YEQwil3t",
        "colab_type": "code",
        "outputId": "62ded94c-f78b-45ef-d125-dd4929c9d3bd",
        "colab": {
          "base_uri": "https://localhost:8080/",
          "height": 204
        }
      },
      "source": [
        "train.head()"
      ],
      "execution_count": 0,
      "outputs": [
        {
          "output_type": "execute_result",
          "data": {
            "text/html": [
              "<div>\n",
              "<style scoped>\n",
              "    .dataframe tbody tr th:only-of-type {\n",
              "        vertical-align: middle;\n",
              "    }\n",
              "\n",
              "    .dataframe tbody tr th {\n",
              "        vertical-align: top;\n",
              "    }\n",
              "\n",
              "    .dataframe thead th {\n",
              "        text-align: right;\n",
              "    }\n",
              "</style>\n",
              "<table border=\"1\" class=\"dataframe\">\n",
              "  <thead>\n",
              "    <tr style=\"text-align: right;\">\n",
              "      <th></th>\n",
              "      <th>type</th>\n",
              "      <th>posts</th>\n",
              "    </tr>\n",
              "  </thead>\n",
              "  <tbody>\n",
              "    <tr>\n",
              "      <th>0</th>\n",
              "      <td>INFJ</td>\n",
              "      <td>'http://www.youtube.com/watch?v=qsXHcwe3krw|||...</td>\n",
              "    </tr>\n",
              "    <tr>\n",
              "      <th>1</th>\n",
              "      <td>ENTP</td>\n",
              "      <td>'I'm finding the lack of me in these posts ver...</td>\n",
              "    </tr>\n",
              "    <tr>\n",
              "      <th>2</th>\n",
              "      <td>INTP</td>\n",
              "      <td>'Good one  _____   https://www.youtube.com/wat...</td>\n",
              "    </tr>\n",
              "    <tr>\n",
              "      <th>3</th>\n",
              "      <td>INTJ</td>\n",
              "      <td>'Dear INTP,   I enjoyed our conversation the o...</td>\n",
              "    </tr>\n",
              "    <tr>\n",
              "      <th>4</th>\n",
              "      <td>ENTJ</td>\n",
              "      <td>'You're fired.|||That's another silly misconce...</td>\n",
              "    </tr>\n",
              "  </tbody>\n",
              "</table>\n",
              "</div>"
            ],
            "text/plain": [
              "   type                                              posts\n",
              "0  INFJ  'http://www.youtube.com/watch?v=qsXHcwe3krw|||...\n",
              "1  ENTP  'I'm finding the lack of me in these posts ver...\n",
              "2  INTP  'Good one  _____   https://www.youtube.com/wat...\n",
              "3  INTJ  'Dear INTP,   I enjoyed our conversation the o...\n",
              "4  ENTJ  'You're fired.|||That's another silly misconce..."
            ]
          },
          "metadata": {
            "tags": []
          },
          "execution_count": 4
        }
      ]
    },
    {
      "cell_type": "markdown",
      "metadata": {
        "id": "T-gWqW6Til3x",
        "colab_type": "text"
      },
      "source": [
        "From a cursory inspection of the data we can see that posts contain:\n",
        "- Multiple posts seperated by '|||'\n",
        "- URLs\n",
        "- Punctuation\n",
        "- Higher and Lower case letters"
      ]
    },
    {
      "cell_type": "code",
      "metadata": {
        "id": "dzVurEgyil3z",
        "colab_type": "code",
        "outputId": "3844b5f9-c4af-43b9-9572-5c958e621f05",
        "colab": {
          "base_uri": "https://localhost:8080/",
          "height": 204
        }
      },
      "source": [
        "test.head()"
      ],
      "execution_count": 0,
      "outputs": [
        {
          "output_type": "execute_result",
          "data": {
            "text/html": [
              "<div>\n",
              "<style scoped>\n",
              "    .dataframe tbody tr th:only-of-type {\n",
              "        vertical-align: middle;\n",
              "    }\n",
              "\n",
              "    .dataframe tbody tr th {\n",
              "        vertical-align: top;\n",
              "    }\n",
              "\n",
              "    .dataframe thead th {\n",
              "        text-align: right;\n",
              "    }\n",
              "</style>\n",
              "<table border=\"1\" class=\"dataframe\">\n",
              "  <thead>\n",
              "    <tr style=\"text-align: right;\">\n",
              "      <th></th>\n",
              "      <th>id</th>\n",
              "      <th>posts</th>\n",
              "    </tr>\n",
              "  </thead>\n",
              "  <tbody>\n",
              "    <tr>\n",
              "      <th>0</th>\n",
              "      <td>1</td>\n",
              "      <td>Musical  Linguistic Logic &amp; Naturalist (tied)|...</td>\n",
              "    </tr>\n",
              "    <tr>\n",
              "      <th>1</th>\n",
              "      <td>2</td>\n",
              "      <td>'You: hello :) Stranger: hii You: how are you ...</td>\n",
              "    </tr>\n",
              "    <tr>\n",
              "      <th>2</th>\n",
              "      <td>3</td>\n",
              "      <td>'What worked for me was knowing that limerence...</td>\n",
              "    </tr>\n",
              "    <tr>\n",
              "      <th>3</th>\n",
              "      <td>4</td>\n",
              "      <td>'Please forget about him. You should definitel...</td>\n",
              "    </tr>\n",
              "    <tr>\n",
              "      <th>4</th>\n",
              "      <td>5</td>\n",
              "      <td>'Ooh, ENTJ Celestia is actually an interesting...</td>\n",
              "    </tr>\n",
              "  </tbody>\n",
              "</table>\n",
              "</div>"
            ],
            "text/plain": [
              "   id                                              posts\n",
              "0   1  Musical  Linguistic Logic & Naturalist (tied)|...\n",
              "1   2  'You: hello :) Stranger: hii You: how are you ...\n",
              "2   3  'What worked for me was knowing that limerence...\n",
              "3   4  'Please forget about him. You should definitel...\n",
              "4   5  'Ooh, ENTJ Celestia is actually an interesting..."
            ]
          },
          "metadata": {
            "tags": []
          },
          "execution_count": 5
        }
      ]
    },
    {
      "cell_type": "markdown",
      "metadata": {
        "id": "6cmLzBxQil34",
        "colab_type": "text"
      },
      "source": [
        "As expected the test set has only the Independant Variable 'posts' as we  are expected to predict the MBTI personality from this"
      ]
    },
    {
      "cell_type": "markdown",
      "metadata": {
        "id": "xszT_H23il37",
        "colab_type": "text"
      },
      "source": [
        "# Exploratory Data Analysis"
      ]
    },
    {
      "cell_type": "code",
      "metadata": {
        "scrolled": true,
        "id": "XVa2QgJhil38",
        "colab_type": "code",
        "outputId": "5c5fb82a-455c-4ab4-b640-e9a77d3bc451",
        "colab": {
          "base_uri": "https://localhost:8080/",
          "height": 136
        }
      },
      "source": [
        "train.info()"
      ],
      "execution_count": 0,
      "outputs": [
        {
          "output_type": "stream",
          "text": [
            "<class 'pandas.core.frame.DataFrame'>\n",
            "RangeIndex: 6506 entries, 0 to 6505\n",
            "Data columns (total 2 columns):\n",
            "type     6506 non-null object\n",
            "posts    6506 non-null object\n",
            "dtypes: object(2)\n",
            "memory usage: 101.7+ KB\n"
          ],
          "name": "stdout"
        }
      ]
    },
    {
      "cell_type": "markdown",
      "metadata": {
        "id": "Pxm2IJ3dil4D",
        "colab_type": "text"
      },
      "source": [
        "**Distribution of the target variable**"
      ]
    },
    {
      "cell_type": "code",
      "metadata": {
        "id": "OPZX5arwil4F",
        "colab_type": "code",
        "outputId": "5ca4ca19-5184-456e-c0fa-cbe34d09350b",
        "colab": {
          "base_uri": "https://localhost:8080/",
          "height": 342
        }
      },
      "source": [
        "plt.figure(figsize=(15,5))\n",
        "plt.xticks(fontsize=15, rotation=0)\n",
        "plt.yticks(fontsize=15, rotation=0)\n",
        "sns.countplot(data=train, x='type');"
      ],
      "execution_count": 0,
      "outputs": [
        {
          "output_type": "display_data",
          "data": {
            "image/png": "[encoded data removed]",
            "text/plain": [
              "<Figure size 1080x360 with 1 Axes>"
            ]
          },
          "metadata": {
            "tags": []
          }
        }
      ]
    },
    {
      "cell_type": "markdown",
      "metadata": {
        "id": "X-YYFlNZil4L",
        "colab_type": "text"
      },
      "source": [
        "- As can be seen the data is unbalanced and we need to balance it. This is done in the modeling phase as part of Hyperparameter tuning\n",
        "- What is also interesting is that in this training set Introvert is extremely over represented in comparison to Extrovert "
      ]
    },
    {
      "cell_type": "code",
      "metadata": {
        "id": "5MJ2hE3Vil4R",
        "colab_type": "code",
        "colab": {}
      },
      "source": [
        "y = train['type']\n",
        "test_id = test['id']"
      ],
      "execution_count": 0,
      "outputs": []
    },
    {
      "cell_type": "markdown",
      "metadata": {
        "id": "ZdkV1oo3il4f",
        "colab_type": "text"
      },
      "source": [
        "**MBTI Type Preprocessing**\n",
        "\n",
        "Split mbti personality into 4 letters and binarize. When it comes to performing machine learning, trying to distinguish between two categories is much easier than distinguishing between 16 categories. We will check that later on. Dividing the data in 4 small groups will perhaps be more useful when it comes to accuracy."
      ]
    },
    {
      "cell_type": "code",
      "metadata": {
        "id": "fjdyLacXil4h",
        "colab_type": "code",
        "colab": {}
      },
      "source": [
        "train['mind'] = train['type'].map(lambda x: 'I' if x[0] == 'I' else 'E')\n",
        "train['energy'] = train['type'].map(lambda x: 'N' if x[1] == 'N' else 'S')\n",
        "train['nature'] = train['type'].map(lambda x: 'T' if x[2] == 'T' else 'F')\n",
        "train['tactics'] = train['type'].map(lambda x: 'J' if x[3] == 'J' else 'P')"
      ],
      "execution_count": 0,
      "outputs": []
    },
    {
      "cell_type": "code",
      "metadata": {
        "id": "VZjY-Rrcil4l",
        "colab_type": "code",
        "colab": {}
      },
      "source": [
        "#Now convert the alpha chars to numeric numbers \n",
        "\n",
        "train['mind'] = train['mind'].apply(lambda x: 0 if x == 'I' else 1)\n",
        "train['energy'] = train['energy'].apply(lambda x: 0 if x == 'S' else 1)\n",
        "train['nature'] = train['nature'].apply(lambda x: 0 if x == 'F' else 1)\n",
        "train['tactics'] = train['tactics'].apply(lambda x: 0 if x == 'P' else 1)"
      ],
      "execution_count": 0,
      "outputs": []
    },
    {
      "cell_type": "code",
      "metadata": {
        "id": "6u_OyhtHil4r",
        "colab_type": "code",
        "outputId": "268ea8f3-56e0-417d-f97f-2bda42a2e0e7",
        "colab": {
          "base_uri": "https://localhost:8080/",
          "height": 204
        }
      },
      "source": [
        "train.head()"
      ],
      "execution_count": 0,
      "outputs": [
        {
          "output_type": "execute_result",
          "data": {
            "text/html": [
              "<div>\n",
              "<style scoped>\n",
              "    .dataframe tbody tr th:only-of-type {\n",
              "        vertical-align: middle;\n",
              "    }\n",
              "\n",
              "    .dataframe tbody tr th {\n",
              "        vertical-align: top;\n",
              "    }\n",
              "\n",
              "    .dataframe thead th {\n",
              "        text-align: right;\n",
              "    }\n",
              "</style>\n",
              "<table border=\"1\" class=\"dataframe\">\n",
              "  <thead>\n",
              "    <tr style=\"text-align: right;\">\n",
              "      <th></th>\n",
              "      <th>type</th>\n",
              "      <th>posts</th>\n",
              "      <th>mind</th>\n",
              "      <th>energy</th>\n",
              "      <th>nature</th>\n",
              "      <th>tactics</th>\n",
              "    </tr>\n",
              "  </thead>\n",
              "  <tbody>\n",
              "    <tr>\n",
              "      <th>0</th>\n",
              "      <td>INFJ</td>\n",
              "      <td>'http://www.youtube.com/watch?v=qsXHcwe3krw|||...</td>\n",
              "      <td>0</td>\n",
              "      <td>1</td>\n",
              "      <td>0</td>\n",
              "      <td>1</td>\n",
              "    </tr>\n",
              "    <tr>\n",
              "      <th>1</th>\n",
              "      <td>ENTP</td>\n",
              "      <td>'I'm finding the lack of me in these posts ver...</td>\n",
              "      <td>1</td>\n",
              "      <td>1</td>\n",
              "      <td>1</td>\n",
              "      <td>0</td>\n",
              "    </tr>\n",
              "    <tr>\n",
              "      <th>2</th>\n",
              "      <td>INTP</td>\n",
              "      <td>'Good one  _____   https://www.youtube.com/wat...</td>\n",
              "      <td>0</td>\n",
              "      <td>1</td>\n",
              "      <td>1</td>\n",
              "      <td>0</td>\n",
              "    </tr>\n",
              "    <tr>\n",
              "      <th>3</th>\n",
              "      <td>INTJ</td>\n",
              "      <td>'Dear INTP,   I enjoyed our conversation the o...</td>\n",
              "      <td>0</td>\n",
              "      <td>1</td>\n",
              "      <td>1</td>\n",
              "      <td>1</td>\n",
              "    </tr>\n",
              "    <tr>\n",
              "      <th>4</th>\n",
              "      <td>ENTJ</td>\n",
              "      <td>'You're fired.|||That's another silly misconce...</td>\n",
              "      <td>1</td>\n",
              "      <td>1</td>\n",
              "      <td>1</td>\n",
              "      <td>1</td>\n",
              "    </tr>\n",
              "  </tbody>\n",
              "</table>\n",
              "</div>"
            ],
            "text/plain": [
              "   type                                              posts  ...  nature  tactics\n",
              "0  INFJ  'http://www.youtube.com/watch?v=qsXHcwe3krw|||...  ...       0        1\n",
              "1  ENTP  'I'm finding the lack of me in these posts ver...  ...       1        0\n",
              "2  INTP  'Good one  _____   https://www.youtube.com/wat...  ...       1        0\n",
              "3  INTJ  'Dear INTP,   I enjoyed our conversation the o...  ...       1        1\n",
              "4  ENTJ  'You're fired.|||That's another silly misconce...  ...       1        1\n",
              "\n",
              "[5 rows x 6 columns]"
            ]
          },
          "metadata": {
            "tags": []
          },
          "execution_count": 16
        }
      ]
    },
    {
      "cell_type": "markdown",
      "metadata": {
        "id": "XoMO8-5Hil4v",
        "colab_type": "text"
      },
      "source": [
        "**Distribution across Types Indicators**"
      ]
    },
    {
      "cell_type": "code",
      "metadata": {
        "id": "c1EXRrwGil4x",
        "colab_type": "code",
        "outputId": "19e77172-055e-42b0-e812-96378418f871",
        "colab": {
          "base_uri": "https://localhost:8080/",
          "height": 281
        }
      },
      "source": [
        "N = 4\n",
        "but = (train['mind'].value_counts()[1], train['energy'].value_counts()[0], train['nature'].value_counts()[0], train['tactics'].value_counts()[0])\n",
        "top = (train['mind'].value_counts()[0], train['energy'].value_counts()[1], train['nature'].value_counts()[1], train['tactics'].value_counts()[1])\n",
        "\n",
        "ind = np.arange(N)    # the x locations for the groups\n",
        "width = 0.7      # the width of the bars: can also be len(x) sequence\n",
        "\n",
        "p1 = plt.bar(ind, but, width)\n",
        "p2 = plt.bar(ind, top, width, bottom=but)\n",
        "\n",
        "plt.ylabel('Count')\n",
        "plt.title('Distribution accoss types indicators')\n",
        "plt.xticks(ind, ('I/E',  'N/S', 'T/F', 'J/P',))\n",
        "\n",
        "plt.show()"
      ],
      "execution_count": 0,
      "outputs": [
        {
          "output_type": "display_data",
          "data": {
            "image/png": "[encoded data removed]",
            "text/plain": [
              "<Figure size 432x288 with 1 Axes>"
            ]
          },
          "metadata": {
            "tags": []
          }
        }
      ]
    },
    {
      "cell_type": "markdown",
      "metadata": {
        "id": "dkScXhJ5il42",
        "colab_type": "text"
      },
      "source": [
        "As can be seen \n",
        "- Introvert is heavily favoured in the mind category\n",
        "- Intuitive is heavily favoured in the energy category\n",
        "- Nature and Tactics have more even spreads \n"
      ]
    },
    {
      "cell_type": "markdown",
      "metadata": {
        "id": "C1KcnXOqil43",
        "colab_type": "text"
      },
      "source": [
        "**Concatenating the data**\n",
        "\n",
        "We decided to concatenate the posts of the Train and Test set. In order to have  a larger data set to train the machine learning model on, as we believe this will lead to a better model. "
      ]
    },
    {
      "cell_type": "code",
      "metadata": {
        "id": "lh_BnauPil45",
        "colab_type": "code",
        "colab": {}
      },
      "source": [
        "combined = pd.concat([train[['posts']].copy(), test[['posts']].copy()], axis=0)"
      ],
      "execution_count": 0,
      "outputs": []
    },
    {
      "cell_type": "code",
      "metadata": {
        "id": "a5uanNseil4-",
        "colab_type": "code",
        "outputId": "877fedc9-369c-4543-b7cd-886914d1a084",
        "colab": {
          "base_uri": "https://localhost:8080/",
          "height": 204
        }
      },
      "source": [
        "combined.head()"
      ],
      "execution_count": 0,
      "outputs": [
        {
          "output_type": "execute_result",
          "data": {
            "text/html": [
              "<div>\n",
              "<style scoped>\n",
              "    .dataframe tbody tr th:only-of-type {\n",
              "        vertical-align: middle;\n",
              "    }\n",
              "\n",
              "    .dataframe tbody tr th {\n",
              "        vertical-align: top;\n",
              "    }\n",
              "\n",
              "    .dataframe thead th {\n",
              "        text-align: right;\n",
              "    }\n",
              "</style>\n",
              "<table border=\"1\" class=\"dataframe\">\n",
              "  <thead>\n",
              "    <tr style=\"text-align: right;\">\n",
              "      <th></th>\n",
              "      <th>posts</th>\n",
              "    </tr>\n",
              "  </thead>\n",
              "  <tbody>\n",
              "    <tr>\n",
              "      <th>0</th>\n",
              "      <td>'http://www.youtube.com/watch?v=qsXHcwe3krw|||...</td>\n",
              "    </tr>\n",
              "    <tr>\n",
              "      <th>1</th>\n",
              "      <td>'I'm finding the lack of me in these posts ver...</td>\n",
              "    </tr>\n",
              "    <tr>\n",
              "      <th>2</th>\n",
              "      <td>'Good one  _____   https://www.youtube.com/wat...</td>\n",
              "    </tr>\n",
              "    <tr>\n",
              "      <th>3</th>\n",
              "      <td>'Dear INTP,   I enjoyed our conversation the o...</td>\n",
              "    </tr>\n",
              "    <tr>\n",
              "      <th>4</th>\n",
              "      <td>'You're fired.|||That's another silly misconce...</td>\n",
              "    </tr>\n",
              "  </tbody>\n",
              "</table>\n",
              "</div>"
            ],
            "text/plain": [
              "                                               posts\n",
              "0  'http://www.youtube.com/watch?v=qsXHcwe3krw|||...\n",
              "1  'I'm finding the lack of me in these posts ver...\n",
              "2  'Good one  _____   https://www.youtube.com/wat...\n",
              "3  'Dear INTP,   I enjoyed our conversation the o...\n",
              "4  'You're fired.|||That's another silly misconce..."
            ]
          },
          "metadata": {
            "tags": []
          },
          "execution_count": 19
        }
      ]
    },
    {
      "cell_type": "markdown",
      "metadata": {
        "id": "ES28_DXsil5D",
        "colab_type": "text"
      },
      "source": [
        "# Understanding NLP\n",
        "\n",
        "NLP is a branch of data science that consists of systematic processes for analyzing, understanding, and deriving information from the text data in a smart and efficient manner. By utilizing NLP and its components, one can organize massive chunks of text data, perform numerous automated tasks and solve a wide range of problems.\n",
        "\n",
        "# Text PreProcessing\n",
        "\n",
        "Text is the most unstructured form of all the available data, various types of noise are present in it and the data is not readily analyzable without any pre-processing. The entire process of cleaning and standardization of text, making it noise-free and ready for analysis is known as text preprocessing.\n",
        "\n",
        "It is predominantly comprised of three steps:\n",
        "\n",
        "- Noise Removal\n",
        "- Lexicon Normalization\n",
        "- Object Standardization\n",
        "\n",
        "![Pic](https://eng.uber.com/wp-content/uploads/2018/01/Actual-Header-2.png)\n"
      ]
    },
    {
      "cell_type": "markdown",
      "metadata": {
        "id": "Qmg6qP3Fil5F",
        "colab_type": "text"
      },
      "source": [
        "<U>**What is SpaCy**</U> \n",
        "\n",
        "The spaCy library is one of the most popular NLP libraries along with NLTK.\n",
        "Spacy automatically breaks your document into tokens when a document is created using the model.\n",
        "A token simply refers to an individual part of a sentence having some semantic value.\n",
        "\n",
        "<U>**Why did we use SpaCy**</U>\n",
        "\n",
        "We used the spaCy Stop Word function \n",
        "\n",
        "\n",
        "<U>**Stop Words**</U>\n",
        "\n",
        "the stop words removal process is a one of the important step to have a better input for any models. Stop words means that it is a very common words in a language (e.g. a, an, the in English). It does not help on many NLP problem such as semantic analysis, classification etc."
      ]
    },
    {
      "cell_type": "code",
      "metadata": {
        "id": "AJk_xhVTil5J",
        "colab_type": "code",
        "colab": {}
      },
      "source": [
        "#Function that preprocess text using Spacy\n",
        "import spacy\n",
        "import en_core_web_sm\n",
        "\n",
        "from spacy.lang.en.stop_words import STOP_WORDS\n",
        "\n",
        "#loading the en_core_web_sm_model\n",
        "stopwords = STOP_WORDS\n",
        "nlp = en_core_web_sm.load()\n",
        "#nlp = spacy.load('en_core_web_sm')\n",
        "\n",
        "def preprocess(train):\n",
        "    #creating a Doc object\n",
        "    doc = nlp(train, disable = ['ner', 'parser'])\n",
        "    #Generating lemmas\n",
        "    lemmas = [token.lemma_ for token in doc]\n",
        "    #remove stopwords and non-alphabetic characters\n",
        "    a_lemma = [lemma for lemma in lemmas\n",
        "              if lemma.isalpha() and lemma not in stopwords]\n",
        "    return ' ' .join(a_lemma) #.lower\n",
        "\n",
        "#apply preprocessing to posts\n",
        "combined['clean_posts'] = combined['posts'].apply(preprocess)"
      ],
      "execution_count": 0,
      "outputs": []
    },
    {
      "cell_type": "code",
      "metadata": {
        "id": "S4USSZ3Fil5Q",
        "colab_type": "code",
        "outputId": "0034ec71-e874-4ed5-de53-8c80073ff61e",
        "colab": {
          "base_uri": "https://localhost:8080/",
          "height": 204
        }
      },
      "source": [
        "combined.head()"
      ],
      "execution_count": 0,
      "outputs": [
        {
          "output_type": "execute_result",
          "data": {
            "text/html": [
              "<div>\n",
              "<style scoped>\n",
              "    .dataframe tbody tr th:only-of-type {\n",
              "        vertical-align: middle;\n",
              "    }\n",
              "\n",
              "    .dataframe tbody tr th {\n",
              "        vertical-align: top;\n",
              "    }\n",
              "\n",
              "    .dataframe thead th {\n",
              "        text-align: right;\n",
              "    }\n",
              "</style>\n",
              "<table border=\"1\" class=\"dataframe\">\n",
              "  <thead>\n",
              "    <tr style=\"text-align: right;\">\n",
              "      <th></th>\n",
              "      <th>posts</th>\n",
              "      <th>clean_posts</th>\n",
              "    </tr>\n",
              "  </thead>\n",
              "  <tbody>\n",
              "    <tr>\n",
              "      <th>0</th>\n",
              "      <td>'http://www.youtube.com/watch?v=qsXHcwe3krw|||...</td>\n",
              "      <td>intj moment sportscenter play life change expe...</td>\n",
              "    </tr>\n",
              "    <tr>\n",
              "      <th>1</th>\n",
              "      <td>'I'm finding the lack of me in these posts ver...</td>\n",
              "      <td>find lack post bore position example girlfrien...</td>\n",
              "    </tr>\n",
              "    <tr>\n",
              "      <th>2</th>\n",
              "      <td>'Good one  _____   https://www.youtube.com/wat...</td>\n",
              "      <td>good course know blessing absolutely positive ...</td>\n",
              "    </tr>\n",
              "    <tr>\n",
              "      <th>3</th>\n",
              "      <td>'Dear INTP,   I enjoyed our conversation the o...</td>\n",
              "      <td>dear INTP enjoy conversation day Esoteric gabb...</td>\n",
              "    </tr>\n",
              "    <tr>\n",
              "      <th>4</th>\n",
              "      <td>'You're fired.|||That's another silly misconce...</td>\n",
              "      <td>silly misconception approach logically key unl...</td>\n",
              "    </tr>\n",
              "  </tbody>\n",
              "</table>\n",
              "</div>"
            ],
            "text/plain": [
              "                                               posts                                        clean_posts\n",
              "0  'http://www.youtube.com/watch?v=qsXHcwe3krw|||...  intj moment sportscenter play life change expe...\n",
              "1  'I'm finding the lack of me in these posts ver...  find lack post bore position example girlfrien...\n",
              "2  'Good one  _____   https://www.youtube.com/wat...  good course know blessing absolutely positive ...\n",
              "3  'Dear INTP,   I enjoyed our conversation the o...  dear INTP enjoy conversation day Esoteric gabb...\n",
              "4  'You're fired.|||That's another silly misconce...  silly misconception approach logically key unl..."
            ]
          },
          "metadata": {
            "tags": []
          },
          "execution_count": 21
        }
      ]
    },
    {
      "cell_type": "code",
      "metadata": {
        "id": "nw0hdd26il5a",
        "colab_type": "code",
        "colab": {}
      },
      "source": [
        "all_data = combined.copy()"
      ],
      "execution_count": 0,
      "outputs": []
    },
    {
      "cell_type": "code",
      "metadata": {
        "id": "ELKRcKTbil5w",
        "colab_type": "code",
        "outputId": "16280968-c9b8-48d0-e6ba-c05b413200f0",
        "colab": {
          "base_uri": "https://localhost:8080/",
          "height": 204
        }
      },
      "source": [
        "all_data.head()"
      ],
      "execution_count": 0,
      "outputs": [
        {
          "output_type": "execute_result",
          "data": {
            "text/html": [
              "<div>\n",
              "<style scoped>\n",
              "    .dataframe tbody tr th:only-of-type {\n",
              "        vertical-align: middle;\n",
              "    }\n",
              "\n",
              "    .dataframe tbody tr th {\n",
              "        vertical-align: top;\n",
              "    }\n",
              "\n",
              "    .dataframe thead th {\n",
              "        text-align: right;\n",
              "    }\n",
              "</style>\n",
              "<table border=\"1\" class=\"dataframe\">\n",
              "  <thead>\n",
              "    <tr style=\"text-align: right;\">\n",
              "      <th></th>\n",
              "      <th>posts</th>\n",
              "      <th>clean_posts</th>\n",
              "    </tr>\n",
              "  </thead>\n",
              "  <tbody>\n",
              "    <tr>\n",
              "      <th>0</th>\n",
              "      <td>'http://www.youtube.com/watch?v=qsXHcwe3krw|||...</td>\n",
              "      <td>intj moment sportscenter play life change expe...</td>\n",
              "    </tr>\n",
              "    <tr>\n",
              "      <th>1</th>\n",
              "      <td>'I'm finding the lack of me in these posts ver...</td>\n",
              "      <td>find lack post bore position example girlfrien...</td>\n",
              "    </tr>\n",
              "    <tr>\n",
              "      <th>2</th>\n",
              "      <td>'Good one  _____   https://www.youtube.com/wat...</td>\n",
              "      <td>good course know blessing absolutely positive ...</td>\n",
              "    </tr>\n",
              "    <tr>\n",
              "      <th>3</th>\n",
              "      <td>'Dear INTP,   I enjoyed our conversation the o...</td>\n",
              "      <td>dear INTP enjoy conversation day Esoteric gabb...</td>\n",
              "    </tr>\n",
              "    <tr>\n",
              "      <th>4</th>\n",
              "      <td>'You're fired.|||That's another silly misconce...</td>\n",
              "      <td>silly misconception approach logically key unl...</td>\n",
              "    </tr>\n",
              "  </tbody>\n",
              "</table>\n",
              "</div>"
            ],
            "text/plain": [
              "                                               posts                                        clean_posts\n",
              "0  'http://www.youtube.com/watch?v=qsXHcwe3krw|||...  intj moment sportscenter play life change expe...\n",
              "1  'I'm finding the lack of me in these posts ver...  find lack post bore position example girlfrien...\n",
              "2  'Good one  _____   https://www.youtube.com/wat...  good course know blessing absolutely positive ...\n",
              "3  'Dear INTP,   I enjoyed our conversation the o...  dear INTP enjoy conversation day Esoteric gabb...\n",
              "4  'You're fired.|||That's another silly misconce...  silly misconception approach logically key unl..."
            ]
          },
          "metadata": {
            "tags": []
          },
          "execution_count": 23
        }
      ]
    },
    {
      "cell_type": "markdown",
      "metadata": {
        "id": "wi2YY5d8il55",
        "colab_type": "text"
      },
      "source": [
        "<U>**What is Lemmatization**</U> \n",
        "\n",
        "Lemmatization is the process of converting a word to its base form. The difference between stemming and lemmatization is, lemmatization considers the context and converts the word to its meaningful base form, whereas stemming just removes the last few characters, often leading to incorrect meanings and spelling errors.\n",
        "\n",
        "We decided to use WordNetLemmatizer for Lemmatization.\n",
        "\n",
        "<U>**Wordnet Lemmatizer with NLTK**</U> \n",
        "\n",
        "Wordnet is an large, freely and publicly available lexical database for the English language aiming to establish structured semantic relationships between words. It offers lemmatization capabilities as well and is one of the earliest and most commonly used lemmatizers.\n",
        "\n",
        "<U>**TweetTokenizer**</U> \n",
        "\n",
        "The posts we are analysing are from twitter. Twitter changes the rules of tokenization because the content of a tweet includes emoticons, hashtags, user mentions, URLs, and is quite different from standard english. For this reason we used the TweetTokenizer class as a tool to tokkenize twitter content.   "
      ]
    },
    {
      "cell_type": "code",
      "metadata": {
        "id": "P_rX08W3il57",
        "colab_type": "code",
        "outputId": "fe766e8e-4725-41ef-ddf2-43eaf9c9d95f",
        "colab": {
          "base_uri": "https://localhost:8080/",
          "height": 51
        }
      },
      "source": [
        "nltk.download('wordnet')\n",
        "from nltk.tokenize import TweetTokenizer\n",
        "from nltk.stem import WordNetLemmatizer\n",
        "tweettoken = TweetTokenizer()\n",
        "wordnet = WordNetLemmatizer()\n",
        "\n",
        "all_data['final_posts'] = all_data.apply(lambda row: [wordnet.lemmatize(w) for w in tweettoken.tokenize(row['clean_posts'])], axis=1)"
      ],
      "execution_count": 43,
      "outputs": [
        {
          "output_type": "stream",
          "text": [
            "[nltk_data] Downloading package wordnet to /root/nltk_data...\n",
            "[nltk_data]   Package wordnet is already up-to-date!\n"
          ],
          "name": "stdout"
        }
      ]
    },
    {
      "cell_type": "code",
      "metadata": {
        "id": "2Ih5CdQLil6E",
        "colab_type": "code",
        "outputId": "2d39bcfb-32c4-4e13-80c4-0d5f5522e3ea",
        "colab": {
          "base_uri": "https://localhost:8080/",
          "height": 204
        }
      },
      "source": [
        "all_data.head()"
      ],
      "execution_count": 0,
      "outputs": [
        {
          "output_type": "execute_result",
          "data": {
            "text/html": [
              "<div>\n",
              "<style scoped>\n",
              "    .dataframe tbody tr th:only-of-type {\n",
              "        vertical-align: middle;\n",
              "    }\n",
              "\n",
              "    .dataframe tbody tr th {\n",
              "        vertical-align: top;\n",
              "    }\n",
              "\n",
              "    .dataframe thead th {\n",
              "        text-align: right;\n",
              "    }\n",
              "</style>\n",
              "<table border=\"1\" class=\"dataframe\">\n",
              "  <thead>\n",
              "    <tr style=\"text-align: right;\">\n",
              "      <th></th>\n",
              "      <th>posts</th>\n",
              "      <th>clean_posts</th>\n",
              "      <th>final_posts</th>\n",
              "    </tr>\n",
              "  </thead>\n",
              "  <tbody>\n",
              "    <tr>\n",
              "      <th>0</th>\n",
              "      <td>'http://www.youtube.com/watch?v=qsXHcwe3krw|||...</td>\n",
              "      <td>intj moment sportscenter play life change expe...</td>\n",
              "      <td>[intj, moment, sportscenter, play, life, chang...</td>\n",
              "    </tr>\n",
              "    <tr>\n",
              "      <th>1</th>\n",
              "      <td>'I'm finding the lack of me in these posts ver...</td>\n",
              "      <td>find lack post bore position example girlfrien...</td>\n",
              "      <td>[find, lack, post, bore, position, example, gi...</td>\n",
              "    </tr>\n",
              "    <tr>\n",
              "      <th>2</th>\n",
              "      <td>'Good one  _____   https://www.youtube.com/wat...</td>\n",
              "      <td>good course know blessing absolutely positive ...</td>\n",
              "      <td>[good, course, know, blessing, absolutely, pos...</td>\n",
              "    </tr>\n",
              "    <tr>\n",
              "      <th>3</th>\n",
              "      <td>'Dear INTP,   I enjoyed our conversation the o...</td>\n",
              "      <td>dear INTP enjoy conversation day Esoteric gabb...</td>\n",
              "      <td>[dear, INTP, enjoy, conversation, day, Esoteri...</td>\n",
              "    </tr>\n",
              "    <tr>\n",
              "      <th>4</th>\n",
              "      <td>'You're fired.|||That's another silly misconce...</td>\n",
              "      <td>silly misconception approach logically key unl...</td>\n",
              "      <td>[silly, misconception, approach, logically, ke...</td>\n",
              "    </tr>\n",
              "  </tbody>\n",
              "</table>\n",
              "</div>"
            ],
            "text/plain": [
              "                                               posts  ...                                        final_posts\n",
              "0  'http://www.youtube.com/watch?v=qsXHcwe3krw|||...  ...  [intj, moment, sportscenter, play, life, chang...\n",
              "1  'I'm finding the lack of me in these posts ver...  ...  [find, lack, post, bore, position, example, gi...\n",
              "2  'Good one  _____   https://www.youtube.com/wat...  ...  [good, course, know, blessing, absolutely, pos...\n",
              "3  'Dear INTP,   I enjoyed our conversation the o...  ...  [dear, INTP, enjoy, conversation, day, Esoteri...\n",
              "4  'You're fired.|||That's another silly misconce...  ...  [silly, misconception, approach, logically, ke...\n",
              "\n",
              "[5 rows x 3 columns]"
            ]
          },
          "metadata": {
            "tags": []
          },
          "execution_count": 26
        }
      ]
    },
    {
      "cell_type": "code",
      "metadata": {
        "id": "InNWYKj5il6M",
        "colab_type": "code",
        "colab": {}
      },
      "source": [
        "all_data['final_posts']=[\" \".join(post) for post in all_data['final_posts']]"
      ],
      "execution_count": 0,
      "outputs": []
    },
    {
      "cell_type": "code",
      "metadata": {
        "id": "G4v6NEzGil6V",
        "colab_type": "code",
        "outputId": "98c1780e-c9c7-4870-ae84-ac5db36d4205",
        "colab": {
          "base_uri": "https://localhost:8080/",
          "height": 204
        }
      },
      "source": [
        "all_data.head()"
      ],
      "execution_count": 45,
      "outputs": [
        {
          "output_type": "execute_result",
          "data": {
            "text/html": [
              "<div>\n",
              "<style scoped>\n",
              "    .dataframe tbody tr th:only-of-type {\n",
              "        vertical-align: middle;\n",
              "    }\n",
              "\n",
              "    .dataframe tbody tr th {\n",
              "        vertical-align: top;\n",
              "    }\n",
              "\n",
              "    .dataframe thead th {\n",
              "        text-align: right;\n",
              "    }\n",
              "</style>\n",
              "<table border=\"1\" class=\"dataframe\">\n",
              "  <thead>\n",
              "    <tr style=\"text-align: right;\">\n",
              "      <th></th>\n",
              "      <th>posts</th>\n",
              "      <th>clean_posts</th>\n",
              "      <th>final_posts</th>\n",
              "    </tr>\n",
              "  </thead>\n",
              "  <tbody>\n",
              "    <tr>\n",
              "      <th>0</th>\n",
              "      <td>'http://www.youtube.com/watch?v=qsXHcwe3krw|||...</td>\n",
              "      <td>intj moment sportscenter play life change expe...</td>\n",
              "      <td>intj moment sportscenter play life change expe...</td>\n",
              "    </tr>\n",
              "    <tr>\n",
              "      <th>1</th>\n",
              "      <td>'I'm finding the lack of me in these posts ver...</td>\n",
              "      <td>find lack post bore position example girlfrien...</td>\n",
              "      <td>find lack post bore position example girlfrien...</td>\n",
              "    </tr>\n",
              "    <tr>\n",
              "      <th>2</th>\n",
              "      <td>'Good one  _____   https://www.youtube.com/wat...</td>\n",
              "      <td>good course know blessing absolutely positive ...</td>\n",
              "      <td>good course know blessing absolutely positive ...</td>\n",
              "    </tr>\n",
              "    <tr>\n",
              "      <th>3</th>\n",
              "      <td>'Dear INTP,   I enjoyed our conversation the o...</td>\n",
              "      <td>dear INTP enjoy conversation day Esoteric gabb...</td>\n",
              "      <td>dear INTP enjoy conversation day Esoteric gabb...</td>\n",
              "    </tr>\n",
              "    <tr>\n",
              "      <th>4</th>\n",
              "      <td>'You're fired.|||That's another silly misconce...</td>\n",
              "      <td>silly misconception approach logically key unl...</td>\n",
              "      <td>silly misconception approach logically key unl...</td>\n",
              "    </tr>\n",
              "  </tbody>\n",
              "</table>\n",
              "</div>"
            ],
            "text/plain": [
              "                                               posts  ...                                        final_posts\n",
              "0  'http://www.youtube.com/watch?v=qsXHcwe3krw|||...  ...  intj moment sportscenter play life change expe...\n",
              "1  'I'm finding the lack of me in these posts ver...  ...  find lack post bore position example girlfrien...\n",
              "2  'Good one  _____   https://www.youtube.com/wat...  ...  good course know blessing absolutely positive ...\n",
              "3  'Dear INTP,   I enjoyed our conversation the o...  ...  dear INTP enjoy conversation day Esoteric gabb...\n",
              "4  'You're fired.|||That's another silly misconce...  ...  silly misconception approach logically key unl...\n",
              "\n",
              "[5 rows x 3 columns]"
            ]
          },
          "metadata": {
            "tags": []
          },
          "execution_count": 45
        }
      ]
    },
    {
      "cell_type": "markdown",
      "metadata": {
        "id": "o6bS5YzYil6a",
        "colab_type": "text"
      },
      "source": [
        "# TFIDF Vector\n",
        "\n",
        "Scikit-learn’s <U>**Tfidfvectorizer**</U> aims to convert a collection of raw documents to a matrix of TF-IDF features. \n",
        "TF-IDF has two parts:\n",
        "\n",
        "Term Frequency (Tf):\n",
        "- How many times a particular word appears in a single doc.\n",
        "\n",
        "Inverse Document Frequency (idf):\n",
        "- Frequent and rare words is solved by adding this term.\n",
        "It is calculated by taking the log of {number of docs in your corpus divided by the number of docs in which this term appears}. \n",
        "So for “the”, the ratio will be close to 1 since it is present in most (all) docs. Therefore, the log will take this ratio to 0.\n",
        "\n",
        "Parameters:\n",
        "- **min_df** When building the vocabulary ignore terms that have a document frequency strictly lower than the given threshold.\n",
        "- **ngram_range** The lower and upper boundary of the range of n-values for different n-grams to be extracted."
      ]
    },
    {
      "cell_type": "code",
      "metadata": {
        "id": "bvt5C4CLil6c",
        "colab_type": "code",
        "colab": {}
      },
      "source": [
        "tfidf_vectorizer = TfidfVectorizer(min_df=2, ngram_range=(1,2))"
      ],
      "execution_count": 0,
      "outputs": []
    },
    {
      "cell_type": "code",
      "metadata": {
        "id": "AZWFanB8il6i",
        "colab_type": "code",
        "colab": {}
      },
      "source": [
        "counts = tfidf_vectorizer.fit_transform(all_data['final_posts'].values)\n",
        "\n",
        "train_new = counts[:len(train), :]\n",
        "test_new = counts[len(train):, :]"
      ],
      "execution_count": 0,
      "outputs": []
    },
    {
      "cell_type": "code",
      "metadata": {
        "id": "57eNWPj1il6m",
        "colab_type": "code",
        "colab": {}
      },
      "source": [
        "# Train test split \n",
        "from sklearn.model_selection import train_test_split\n",
        "X_train, X_test, y_train, y_test = train_test_split(train_new, y, test_size=0.2)"
      ],
      "execution_count": 0,
      "outputs": []
    },
    {
      "cell_type": "markdown",
      "metadata": {
        "id": "H3xzL0zYil6s",
        "colab_type": "text"
      },
      "source": [
        "# Training, Prediction and Evaluation"
      ]
    },
    {
      "cell_type": "markdown",
      "metadata": {
        "id": "aSxWGujzil6t",
        "colab_type": "text"
      },
      "source": [
        "#### Logistic Regression"
      ]
    },
    {
      "cell_type": "code",
      "metadata": {
        "id": "DRxJ1Ttjil6y",
        "colab_type": "code",
        "outputId": "d405d0fa-98ea-41e0-ac01-66f5905890db",
        "colab": {
          "base_uri": "https://localhost:8080/",
          "height": 598
        }
      },
      "source": [
        "from sklearn.linear_model import LogisticRegression\n",
        "\n",
        "logistic = LogisticRegression()\n",
        "logistic.fit(X_train, y_train)\n",
        "\n",
        "y_pred = logistic.predict(X_test)\n",
        "y_pred1 = logistic.predict_proba(X_test)\n",
        "\n",
        "from sklearn.metrics import classification_report, log_loss\n",
        "\n",
        "print('Logistic Regression:')\n",
        "print('\\n\\nnClassification Report:', classification_report(y_test,y_pred))\n",
        "print('Log Loss:', log_loss(y_test,y_pred1))"
      ],
      "execution_count": 0,
      "outputs": [
        {
          "output_type": "stream",
          "text": [
            "/usr/local/lib/python3.6/dist-packages/sklearn/linear_model/logistic.py:432: FutureWarning: Default solver will be changed to 'lbfgs' in 0.22. Specify a solver to silence this warning.\n",
            "  FutureWarning)\n",
            "/usr/local/lib/python3.6/dist-packages/sklearn/linear_model/logistic.py:469: FutureWarning: Default multi_class will be changed to 'auto' in 0.22. Specify the multi_class option to silence this warning.\n",
            "  \"this warning.\", FutureWarning)\n"
          ],
          "name": "stderr"
        },
        {
          "output_type": "stream",
          "text": [
            "Logistic Regression:\n",
            "\n",
            "\n",
            "nClassification Report:               precision    recall  f1-score   support\n",
            "\n",
            "        ENFJ       0.00      0.00      0.00        31\n",
            "        ENFP       0.62      0.35      0.44        81\n",
            "        ENTJ       1.00      0.07      0.13        28\n",
            "        ENTP       0.74      0.43      0.54       105\n",
            "        ESFJ       0.00      0.00      0.00         8\n",
            "        ESFP       0.00      0.00      0.00         4\n",
            "        ESTJ       0.00      0.00      0.00         8\n",
            "        ESTP       0.00      0.00      0.00        16\n",
            "        INFJ       0.58      0.65      0.61       212\n",
            "        INFP       0.44      0.91      0.59       259\n",
            "        INTJ       0.64      0.62      0.63       162\n",
            "        INTP       0.64      0.71      0.67       234\n",
            "        ISFJ       0.00      0.00      0.00        26\n",
            "        ISFP       1.00      0.03      0.05        38\n",
            "        ISTJ       0.00      0.00      0.00        32\n",
            "        ISTP       0.50      0.02      0.03        58\n",
            "\n",
            "    accuracy                           0.55      1302\n",
            "   macro avg       0.38      0.24      0.23      1302\n",
            "weighted avg       0.55      0.55      0.49      1302\n",
            "\n",
            "Log Loss: 1.722094839003156\n"
          ],
          "name": "stdout"
        },
        {
          "output_type": "stream",
          "text": [
            "/usr/local/lib/python3.6/dist-packages/sklearn/metrics/classification.py:1437: UndefinedMetricWarning: Precision and F-score are ill-defined and being set to 0.0 in labels with no predicted samples.\n",
            "  'precision', 'predicted', average, warn_for)\n"
          ],
          "name": "stderr"
        }
      ]
    },
    {
      "cell_type": "markdown",
      "metadata": {
        "id": "Kn3EkBtmil65",
        "colab_type": "text"
      },
      "source": [
        "#### Naive Bayes"
      ]
    },
    {
      "cell_type": "code",
      "metadata": {
        "id": "hi94fsr5il68",
        "colab_type": "code",
        "outputId": "07312359-1254-4225-81ef-6e83a56e3d09",
        "colab": {
          "base_uri": "https://localhost:8080/",
          "height": 547
        }
      },
      "source": [
        "from sklearn.naive_bayes import MultinomialNB\n",
        "\n",
        "nb = MultinomialNB()\n",
        "nb.fit(X_train, y_train)\n",
        "\n",
        "y_pred = nb.predict(X_test)\n",
        "y_pred1 = nb.predict_proba(X_test)\n",
        "\n",
        "\n",
        "from sklearn.metrics import classification_report, log_loss\n",
        "\n",
        "print('Naive Bayes:')\n",
        "print('\\n\\nClassification Report:\\n', classification_report(y_test,y_pred))\n",
        "print('Log Loss:', log_loss(y_test,y_pred1))"
      ],
      "execution_count": 0,
      "outputs": [
        {
          "output_type": "stream",
          "text": [
            "Naive Bayes:\n",
            "\n",
            "\n",
            "Classification Report:\n",
            "               precision    recall  f1-score   support\n",
            "\n",
            "        ENFJ       0.00      0.00      0.00        31\n",
            "        ENFP       0.00      0.00      0.00        81\n",
            "        ENTJ       0.00      0.00      0.00        28\n",
            "        ENTP       0.00      0.00      0.00       105\n",
            "        ESFJ       0.00      0.00      0.00         8\n",
            "        ESFP       0.00      0.00      0.00         4\n",
            "        ESTJ       0.00      0.00      0.00         8\n",
            "        ESTP       0.00      0.00      0.00        16\n",
            "        INFJ       0.00      0.00      0.00       212\n",
            "        INFP       0.20      1.00      0.33       259\n",
            "        INTJ       0.00      0.00      0.00       162\n",
            "        INTP       0.00      0.00      0.00       234\n",
            "        ISFJ       0.00      0.00      0.00        26\n",
            "        ISFP       0.00      0.00      0.00        38\n",
            "        ISTJ       0.00      0.00      0.00        32\n",
            "        ISTP       0.00      0.00      0.00        58\n",
            "\n",
            "    accuracy                           0.20      1302\n",
            "   macro avg       0.01      0.06      0.02      1302\n",
            "weighted avg       0.04      0.20      0.07      1302\n",
            "\n",
            "Log Loss: 3.895143515681672\n"
          ],
          "name": "stdout"
        },
        {
          "output_type": "stream",
          "text": [
            "/usr/local/lib/python3.6/dist-packages/sklearn/metrics/classification.py:1437: UndefinedMetricWarning: Precision and F-score are ill-defined and being set to 0.0 in labels with no predicted samples.\n",
            "  'precision', 'predicted', average, warn_for)\n"
          ],
          "name": "stderr"
        }
      ]
    },
    {
      "cell_type": "markdown",
      "metadata": {
        "id": "Hio-GltOil7E",
        "colab_type": "text"
      },
      "source": [
        "#### Random Forest"
      ]
    },
    {
      "cell_type": "code",
      "metadata": {
        "id": "stZZrEpMil7J",
        "colab_type": "code",
        "outputId": "a846d42c-95e6-4691-a9c0-c82989e7eca7",
        "colab": {
          "base_uri": "https://localhost:8080/",
          "height": 581
        }
      },
      "source": [
        "from sklearn.ensemble import RandomForestClassifier\n",
        "\n",
        "rf = RandomForestClassifier()\n",
        "rf.fit(X_train, y_train)\n",
        "\n",
        "y_pred = rf.predict(X_test)\n",
        "y_pred1 = rf.predict_proba(X_test)\n",
        "\n",
        "from sklearn.metrics import classification_report, log_loss\n",
        "\n",
        "print('Random Forest:')\n",
        "print('\\n\\nClassification Report:\\n', classification_report(y_test,y_pred))\n",
        "print('Log Loss:', log_loss(y_test,y_pred1))"
      ],
      "execution_count": 0,
      "outputs": [
        {
          "output_type": "stream",
          "text": [
            "/usr/local/lib/python3.6/dist-packages/sklearn/ensemble/forest.py:245: FutureWarning: The default value of n_estimators will change from 10 in version 0.20 to 100 in 0.22.\n",
            "  \"10 in version 0.20 to 100 in 0.22.\", FutureWarning)\n"
          ],
          "name": "stderr"
        },
        {
          "output_type": "stream",
          "text": [
            "Random Forest:\n",
            "\n",
            "\n",
            "Classification Report:\n",
            "               precision    recall  f1-score   support\n",
            "\n",
            "        ENFJ       0.20      0.03      0.06        31\n",
            "        ENFP       0.23      0.26      0.24        81\n",
            "        ENTJ       0.20      0.07      0.11        28\n",
            "        ENTP       0.21      0.14      0.17       105\n",
            "        ESFJ       0.00      0.00      0.00         8\n",
            "        ESFP       0.00      0.00      0.00         4\n",
            "        ESTJ       0.00      0.00      0.00         8\n",
            "        ESTP       0.00      0.00      0.00        16\n",
            "        INFJ       0.31      0.51      0.39       212\n",
            "        INFP       0.34      0.66      0.45       259\n",
            "        INTJ       0.26      0.19      0.22       162\n",
            "        INTP       0.31      0.20      0.24       234\n",
            "        ISFJ       1.00      0.04      0.07        26\n",
            "        ISFP       0.00      0.00      0.00        38\n",
            "        ISTJ       0.00      0.00      0.00        32\n",
            "        ISTP       1.00      0.09      0.16        58\n",
            "\n",
            "    accuracy                           0.31      1302\n",
            "   macro avg       0.25      0.14      0.13      1302\n",
            "weighted avg       0.31      0.31      0.26      1302\n",
            "\n",
            "Log Loss: 8.070197384477549\n"
          ],
          "name": "stdout"
        },
        {
          "output_type": "stream",
          "text": [
            "/usr/local/lib/python3.6/dist-packages/sklearn/metrics/classification.py:1437: UndefinedMetricWarning: Precision and F-score are ill-defined and being set to 0.0 in labels with no predicted samples.\n",
            "  'precision', 'predicted', average, warn_for)\n"
          ],
          "name": "stderr"
        }
      ]
    },
    {
      "cell_type": "markdown",
      "metadata": {
        "id": "ZwjEswoxil7T",
        "colab_type": "text"
      },
      "source": [
        "#### Support Vector Classifier"
      ]
    },
    {
      "cell_type": "code",
      "metadata": {
        "id": "TUGZchaiil7V",
        "colab_type": "code",
        "outputId": "5ef45d9a-ed6f-43e3-8585-c72702b3d737",
        "colab": {
          "base_uri": "https://localhost:8080/",
          "height": 870
        }
      },
      "source": [
        "from sklearn.svm import SVC\n",
        "\n",
        "svc = SVC(probability=True)\n",
        "svc.fit(X_train, y_train)\n",
        "\n",
        "y_pred = svc.predict(X_test)\n",
        "y_pred1 = svc.predict_proba(X_test)\n",
        "\n",
        "from sklearn.metrics import classification_report, log_loss\n",
        "\n",
        "print('Support Vector Classifier:')\n",
        "print('\\n\\nClassification Report:', classification_report(y_test,y_pred))\n",
        "print('Log Loss:', log_loss(y_test,y_pred))"
      ],
      "execution_count": 0,
      "outputs": [
        {
          "output_type": "stream",
          "text": [
            "/usr/local/lib/python3.6/dist-packages/sklearn/svm/base.py:193: FutureWarning: The default value of gamma will change from 'auto' to 'scale' in version 0.22 to account better for unscaled features. Set gamma explicitly to 'auto' or 'scale' to avoid this warning.\n",
            "  \"avoid this warning.\", FutureWarning)\n"
          ],
          "name": "stderr"
        },
        {
          "output_type": "stream",
          "text": [
            "Support Vector Classifier:\n",
            "\n",
            "\n",
            "Classification Report:               precision    recall  f1-score   support\n",
            "\n",
            "        ENFJ       0.00      0.00      0.00        31\n",
            "        ENFP       0.00      0.00      0.00        81\n",
            "        ENTJ       0.00      0.00      0.00        28\n",
            "        ENTP       0.00      0.00      0.00       105\n",
            "        ESFJ       0.00      0.00      0.00         8\n",
            "        ESFP       0.00      0.00      0.00         4\n",
            "        ESTJ       0.00      0.00      0.00         8\n",
            "        ESTP       0.00      0.00      0.00        16\n",
            "        INFJ       0.00      0.00      0.00       212\n",
            "        INFP       0.20      1.00      0.33       259\n",
            "        INTJ       0.00      0.00      0.00       162\n",
            "        INTP       0.00      0.00      0.00       234\n",
            "        ISFJ       0.00      0.00      0.00        26\n",
            "        ISFP       0.00      0.00      0.00        38\n",
            "        ISTJ       0.00      0.00      0.00        32\n",
            "        ISTP       0.00      0.00      0.00        58\n",
            "\n",
            "    accuracy                           0.20      1302\n",
            "   macro avg       0.01      0.06      0.02      1302\n",
            "weighted avg       0.04      0.20      0.07      1302\n",
            "\n"
          ],
          "name": "stdout"
        },
        {
          "output_type": "stream",
          "text": [
            "/usr/local/lib/python3.6/dist-packages/sklearn/metrics/classification.py:1437: UndefinedMetricWarning: Precision and F-score are ill-defined and being set to 0.0 in labels with no predicted samples.\n",
            "  'precision', 'predicted', average, warn_for)\n"
          ],
          "name": "stderr"
        },
        {
          "output_type": "error",
          "ename": "ValueError",
          "evalue": "ignored",
          "traceback": [
            "\u001b[0;31m---------------------------------------------------------------------------\u001b[0m",
            "\u001b[0;31mValueError\u001b[0m                                Traceback (most recent call last)",
            "\u001b[0;32m<ipython-input-38-fa8f86274784>\u001b[0m in \u001b[0;36m<module>\u001b[0;34m()\u001b[0m\n\u001b[1;32m     11\u001b[0m \u001b[0mprint\u001b[0m\u001b[0;34m(\u001b[0m\u001b[0;34m'Support Vector Classifier:'\u001b[0m\u001b[0;34m)\u001b[0m\u001b[0;34m\u001b[0m\u001b[0;34m\u001b[0m\u001b[0m\n\u001b[1;32m     12\u001b[0m \u001b[0mprint\u001b[0m\u001b[0;34m(\u001b[0m\u001b[0;34m'\\n\\nClassification Report:'\u001b[0m\u001b[0;34m,\u001b[0m \u001b[0mclassification_report\u001b[0m\u001b[0;34m(\u001b[0m\u001b[0my_test\u001b[0m\u001b[0;34m,\u001b[0m\u001b[0my_pred\u001b[0m\u001b[0;34m)\u001b[0m\u001b[0;34m)\u001b[0m\u001b[0;34m\u001b[0m\u001b[0;34m\u001b[0m\u001b[0m\n\u001b[0;32m---> 13\u001b[0;31m \u001b[0mprint\u001b[0m\u001b[0;34m(\u001b[0m\u001b[0;34m'Log Loss:'\u001b[0m\u001b[0;34m,\u001b[0m \u001b[0mlog_loss\u001b[0m\u001b[0;34m(\u001b[0m\u001b[0my_test\u001b[0m\u001b[0;34m,\u001b[0m\u001b[0my_pred\u001b[0m\u001b[0;34m)\u001b[0m\u001b[0;34m)\u001b[0m\u001b[0;34m\u001b[0m\u001b[0;34m\u001b[0m\u001b[0m\n\u001b[0m",
            "\u001b[0;32m/usr/local/lib/python3.6/dist-packages/sklearn/metrics/classification.py\u001b[0m in \u001b[0;36mlog_loss\u001b[0;34m(y_true, y_pred, eps, normalize, sample_weight, labels)\u001b[0m\n\u001b[1;32m   2118\u001b[0m     \u001b[0mThe\u001b[0m \u001b[0mlogarithm\u001b[0m \u001b[0mused\u001b[0m \u001b[0;32mis\u001b[0m \u001b[0mthe\u001b[0m \u001b[0mnatural\u001b[0m \u001b[0mlogarithm\u001b[0m \u001b[0;34m(\u001b[0m\u001b[0mbase\u001b[0m\u001b[0;34m-\u001b[0m\u001b[0me\u001b[0m\u001b[0;34m)\u001b[0m\u001b[0;34m.\u001b[0m\u001b[0;34m\u001b[0m\u001b[0;34m\u001b[0m\u001b[0m\n\u001b[1;32m   2119\u001b[0m     \"\"\"\n\u001b[0;32m-> 2120\u001b[0;31m     \u001b[0my_pred\u001b[0m \u001b[0;34m=\u001b[0m \u001b[0mcheck_array\u001b[0m\u001b[0;34m(\u001b[0m\u001b[0my_pred\u001b[0m\u001b[0;34m,\u001b[0m \u001b[0mensure_2d\u001b[0m\u001b[0;34m=\u001b[0m\u001b[0;32mFalse\u001b[0m\u001b[0;34m)\u001b[0m\u001b[0;34m\u001b[0m\u001b[0;34m\u001b[0m\u001b[0m\n\u001b[0m\u001b[1;32m   2121\u001b[0m     \u001b[0mcheck_consistent_length\u001b[0m\u001b[0;34m(\u001b[0m\u001b[0my_pred\u001b[0m\u001b[0;34m,\u001b[0m \u001b[0my_true\u001b[0m\u001b[0;34m,\u001b[0m \u001b[0msample_weight\u001b[0m\u001b[0;34m)\u001b[0m\u001b[0;34m\u001b[0m\u001b[0;34m\u001b[0m\u001b[0m\n\u001b[1;32m   2122\u001b[0m \u001b[0;34m\u001b[0m\u001b[0m\n",
            "\u001b[0;32m/usr/local/lib/python3.6/dist-packages/sklearn/utils/validation.py\u001b[0m in \u001b[0;36mcheck_array\u001b[0;34m(array, accept_sparse, accept_large_sparse, dtype, order, copy, force_all_finite, ensure_2d, allow_nd, ensure_min_samples, ensure_min_features, warn_on_dtype, estimator)\u001b[0m\n\u001b[1;32m    494\u001b[0m             \u001b[0;32mtry\u001b[0m\u001b[0;34m:\u001b[0m\u001b[0;34m\u001b[0m\u001b[0;34m\u001b[0m\u001b[0m\n\u001b[1;32m    495\u001b[0m                 \u001b[0mwarnings\u001b[0m\u001b[0;34m.\u001b[0m\u001b[0msimplefilter\u001b[0m\u001b[0;34m(\u001b[0m\u001b[0;34m'error'\u001b[0m\u001b[0;34m,\u001b[0m \u001b[0mComplexWarning\u001b[0m\u001b[0;34m)\u001b[0m\u001b[0;34m\u001b[0m\u001b[0;34m\u001b[0m\u001b[0m\n\u001b[0;32m--> 496\u001b[0;31m                 \u001b[0marray\u001b[0m \u001b[0;34m=\u001b[0m \u001b[0mnp\u001b[0m\u001b[0;34m.\u001b[0m\u001b[0masarray\u001b[0m\u001b[0;34m(\u001b[0m\u001b[0marray\u001b[0m\u001b[0;34m,\u001b[0m \u001b[0mdtype\u001b[0m\u001b[0;34m=\u001b[0m\u001b[0mdtype\u001b[0m\u001b[0;34m,\u001b[0m \u001b[0morder\u001b[0m\u001b[0;34m=\u001b[0m\u001b[0morder\u001b[0m\u001b[0;34m)\u001b[0m\u001b[0;34m\u001b[0m\u001b[0;34m\u001b[0m\u001b[0m\n\u001b[0m\u001b[1;32m    497\u001b[0m             \u001b[0;32mexcept\u001b[0m \u001b[0mComplexWarning\u001b[0m\u001b[0;34m:\u001b[0m\u001b[0;34m\u001b[0m\u001b[0;34m\u001b[0m\u001b[0m\n\u001b[1;32m    498\u001b[0m                 raise ValueError(\"Complex data not supported\\n\"\n",
            "\u001b[0;32m/usr/local/lib/python3.6/dist-packages/numpy/core/numeric.py\u001b[0m in \u001b[0;36masarray\u001b[0;34m(a, dtype, order)\u001b[0m\n\u001b[1;32m    536\u001b[0m \u001b[0;34m\u001b[0m\u001b[0m\n\u001b[1;32m    537\u001b[0m     \"\"\"\n\u001b[0;32m--> 538\u001b[0;31m     \u001b[0;32mreturn\u001b[0m \u001b[0marray\u001b[0m\u001b[0;34m(\u001b[0m\u001b[0ma\u001b[0m\u001b[0;34m,\u001b[0m \u001b[0mdtype\u001b[0m\u001b[0;34m,\u001b[0m \u001b[0mcopy\u001b[0m\u001b[0;34m=\u001b[0m\u001b[0;32mFalse\u001b[0m\u001b[0;34m,\u001b[0m \u001b[0morder\u001b[0m\u001b[0;34m=\u001b[0m\u001b[0morder\u001b[0m\u001b[0;34m)\u001b[0m\u001b[0;34m\u001b[0m\u001b[0;34m\u001b[0m\u001b[0m\n\u001b[0m\u001b[1;32m    539\u001b[0m \u001b[0;34m\u001b[0m\u001b[0m\n\u001b[1;32m    540\u001b[0m \u001b[0;34m\u001b[0m\u001b[0m\n",
            "\u001b[0;31mValueError\u001b[0m: could not convert string to float: 'INFP'"
          ]
        }
      ]
    },
    {
      "cell_type": "markdown",
      "metadata": {
        "id": "HFGQ4CF4il7b",
        "colab_type": "text"
      },
      "source": [
        "Logistic Regression gives us the best log_loss score, so we will tune its hyperparameters for better result"
      ]
    },
    {
      "cell_type": "markdown",
      "metadata": {
        "id": "Sx50B2Tbil7d",
        "colab_type": "text"
      },
      "source": [
        "#### Hyperparameter tuning"
      ]
    },
    {
      "cell_type": "markdown",
      "metadata": {
        "id": "uOcBaM2hil7l",
        "colab_type": "text"
      },
      "source": [
        "Grid Search was used to find 'C'"
      ]
    },
    {
      "cell_type": "code",
      "metadata": {
        "id": "IXYp3Eizil7n",
        "colab_type": "code",
        "colab": {}
      },
      "source": [
        "def tune_model(X_train, y_train): \n",
        "    \n",
        "    C_list = [0.001,0.01,0.1, 1,2,5,10]\n",
        "    \n",
        "    log = logisticRegression()\n",
        "    parameters = {'C':(C_list)}\n",
        "    \n",
        "    clf = GridSearchCV(log, parameters)\n",
        "    best = clf.fit(X_train,y_train)\n",
        "    return best.best_params_\n",
        "\n",
        "tune_model(X_train, y_train)"
      ],
      "execution_count": 0,
      "outputs": []
    },
    {
      "cell_type": "markdown",
      "metadata": {
        "id": "SXH1k-t_il8V",
        "colab_type": "text"
      },
      "source": [
        "For the other hyperparameters we simply read the sklearn <a href='https://scikit-learn.org/stable/modules/generated/sklearn.linear_model.LogisticRegression.html'>documentation</a> descriptions and chose the 'class_weight', 'solver', 'multi_class' and 'penalty' that seemed the most appropriate."
      ]
    },
    {
      "cell_type": "markdown",
      "metadata": {
        "id": "G4Y6qGSWil8X",
        "colab_type": "text"
      },
      "source": [
        "#### Logistic Regression with hyperparameters"
      ]
    },
    {
      "cell_type": "code",
      "metadata": {
        "id": "u5luLBniil8Y",
        "colab_type": "code",
        "colab": {
          "base_uri": "https://localhost:8080/",
          "height": 530
        },
        "outputId": "b7ca37b9-b517-4518-8ed0-9a22ab927ba0"
      },
      "source": [
        "#Logistic Regression with hyperparameters\n",
        "from sklearn.linear_model import LogisticRegression\n",
        "\n",
        "logistic = LogisticRegression(C=10, class_weight='balanced',solver='newton-cg', multi_class='multinomial',penalty='l2')\n",
        "logistic.fit(X_train, y_train)\n",
        "\n",
        "y_pred = logistic.predict(X_test)\n",
        "y_pred1 = logistic.predict_proba(X_test)\n",
        "\n",
        "from sklearn.metrics import classification_report, log_loss\n",
        "\n",
        "print('Logisitc Regression with hyperparameters:')\n",
        "print('\\n\\nClass Report:', classification_report(y_test,y_pred))\n",
        "print('Log Loss:', log_loss(y_test,y_pred1))"
      ],
      "execution_count": 49,
      "outputs": [
        {
          "output_type": "stream",
          "text": [
            "Logisitc Regression with hyperparameters:\n",
            "\n",
            "\n",
            "Class Report:               precision    recall  f1-score   support\n",
            "\n",
            "        ENFJ       0.38      0.14      0.21        21\n",
            "        ENFP       0.69      0.61      0.64        97\n",
            "        ENTJ       0.67      0.33      0.44        30\n",
            "        ENTP       0.71      0.63      0.67       110\n",
            "        ESFJ       1.00      0.33      0.50         9\n",
            "        ESFP       0.00      0.00      0.00         9\n",
            "        ESTJ       1.00      0.25      0.40         4\n",
            "        ESTP       0.71      0.36      0.48        14\n",
            "        INFJ       0.67      0.68      0.67       209\n",
            "        INFP       0.71      0.81      0.75       300\n",
            "        INTJ       0.61      0.75      0.67       169\n",
            "        INTP       0.60      0.73      0.66       190\n",
            "        ISFJ       0.86      0.29      0.43        21\n",
            "        ISFP       0.63      0.41      0.50        41\n",
            "        ISTJ       0.43      0.24      0.31        25\n",
            "        ISTP       0.79      0.64      0.71        53\n",
            "\n",
            "    accuracy                           0.66      1302\n",
            "   macro avg       0.65      0.45      0.50      1302\n",
            "weighted avg       0.66      0.66      0.65      1302\n",
            "\n",
            "Log Loss: 1.353981012899317\n"
          ],
          "name": "stdout"
        },
        {
          "output_type": "stream",
          "text": [
            "/usr/local/lib/python3.6/dist-packages/sklearn/metrics/classification.py:1437: UndefinedMetricWarning: Precision and F-score are ill-defined and being set to 0.0 in labels with no predicted samples.\n",
            "  'precision', 'predicted', average, warn_for)\n"
          ],
          "name": "stderr"
        }
      ]
    },
    {
      "cell_type": "markdown",
      "metadata": {
        "id": "wjCITpPfil8d",
        "colab_type": "text"
      },
      "source": [
        "# Submission"
      ]
    },
    {
      "cell_type": "markdown",
      "metadata": {
        "id": "Tb32I6scil8e",
        "colab_type": "text"
      },
      "source": [
        "### Generating Submission"
      ]
    },
    {
      "cell_type": "code",
      "metadata": {
        "id": "KnEQIRsNil8f",
        "colab_type": "code",
        "colab": {}
      },
      "source": [
        "y_logistic = logistic.predict(test_new)"
      ],
      "execution_count": 0,
      "outputs": []
    },
    {
      "cell_type": "code",
      "metadata": {
        "id": "h5jEkBWNil9E",
        "colab_type": "code",
        "colab": {}
      },
      "source": [
        "submission_logistic = pd.DataFrame()"
      ],
      "execution_count": 0,
      "outputs": []
    },
    {
      "cell_type": "code",
      "metadata": {
        "id": "k0555fOQil9I",
        "colab_type": "code",
        "colab": {}
      },
      "source": [
        "submission_logistic['id'] = test_id\n",
        "submission_logistic['type'] = y_logistic"
      ],
      "execution_count": 0,
      "outputs": []
    },
    {
      "cell_type": "code",
      "metadata": {
        "id": "o7T_K6ncil9M",
        "colab_type": "code",
        "colab": {}
      },
      "source": [
        "print(submission_logistic['type'].value_counts())"
      ],
      "execution_count": 0,
      "outputs": []
    },
    {
      "cell_type": "code",
      "metadata": {
        "id": "qpaYJL3hil9f",
        "colab_type": "code",
        "colab": {}
      },
      "source": [
        "# Encoding the different type to each category\n",
        "submission_logistic['mind'] = submission_logistic['type'].apply(lambda X: 0 if X[0] == 'I' else 1)\n",
        "submission_logistic['energy'] = submission_logistic['type'].apply(lambda X: 0 if X[1] == 'S' else 1)\n",
        "submission_logistic['nature'] = submission_logistic['type'].apply(lambda X: 0 if X[2] == 'F' else 1)\n",
        "submission_logistic['tactics'] = submission_logistic['type'].apply(lambda X: 0 if X[3] == 'P' else 1)"
      ],
      "execution_count": 0,
      "outputs": []
    },
    {
      "cell_type": "code",
      "metadata": {
        "id": "QwdLCGmAil9l",
        "colab_type": "code",
        "colab": {}
      },
      "source": [
        "#Preparing the dataset for submission\n",
        "submission_file_logistic = submission_logistic.drop('type', axis =1)"
      ],
      "execution_count": 0,
      "outputs": []
    },
    {
      "cell_type": "code",
      "metadata": {
        "id": "GRniaBbnil9u",
        "colab_type": "code",
        "colab": {}
      },
      "source": [
        "#Creating a csv for each model \n",
        "submission_file_logistic.to_csv('submission_logistic_hp_all_train.csv', index = False)"
      ],
      "execution_count": 0,
      "outputs": []
    }
  ]
}